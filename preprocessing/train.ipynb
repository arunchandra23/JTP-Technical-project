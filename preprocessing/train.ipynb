{
 "cells": [
  {
   "cell_type": "markdown",
   "metadata": {},
   "source": [
    "# Image Recommendation System Using Autoencoder\n",
    "\n",
    "This Jupyter notebook demonstrates the process of building an image recommendation system using an autoencoder. The autoencoder is trained to learn latent features from images, which are then used to create feature vectors. These feature vectors serve as the basis for recommending similar images. The notebook covers the following steps:\n",
    "\n",
    "1. Importing necessary libraries and defining utility functions.\n",
    "2. Setting configuration variables for data directories, batch size, image size, and other parameters.\n",
    "3. Preparing data generators for training and testing images.\n",
    "4. Building and training the autoencoder model to learn latent features.\n",
    "5. Saving the trained model for later use in the recommendation system.\n",
    "6. Plotting the training and validation loss to evaluate the model's performance.\n",
    "\n",
    "The latent features extracted by the encoder part of the autoencoder are used to create feature vectors that represent the content of the images. These feature vectors are then utilized to find and recommend similar images based on their content similarity.\n"
   ]
  },
  {
   "cell_type": "code",
   "execution_count": 5,
   "metadata": {},
   "outputs": [],
   "source": [
    "import tensorflow as tf\n",
    "from tensorflow.keras import layers, models"
   ]
  },
  {
   "cell_type": "markdown",
   "metadata": {},
   "source": [
    "Define three functions:\n",
    "1. `create_data_generator`: Creates an image data generator for loading images from a directory.\n",
    "2. `create_autoencoder_generator`: Yields pairs of images for training the autoencoder.\n",
    "3. `build_autoencoder`: Builds an autoencoder model with a specified input shape.\n"
   ]
  },
  {
   "cell_type": "code",
   "execution_count": 7,
   "metadata": {},
   "outputs": [],
   "source": [
    "\n",
    "def create_data_generator(image_directory, batch_size, image_size):\n",
    "    datagen = tf.keras.preprocessing.image.ImageDataGenerator(rescale=1./255)\n",
    "    generator = datagen.flow_from_directory(\n",
    "        directory=image_directory,\n",
    "        target_size=image_size,\n",
    "        color_mode='rgb',\n",
    "        batch_size=batch_size,\n",
    "        class_mode=None,  # No labels needed\n",
    "        shuffle=True\n",
    "    )\n",
    "    return generator\n",
    "\n",
    "def create_autoencoder_generator(image_generator):\n",
    "    for batch in image_generator:\n",
    "        yield (batch, batch)\n",
    "\n",
    "def build_autoencoder(input_shape):\n",
    "    # Encoder\n",
    "    encoder = models.Sequential([\n",
    "        layers.Conv2D(32, (3, 3), activation='relu', input_shape=input_shape),\n",
    "        layers.MaxPooling2D((2, 2)),\n",
    "        layers.Conv2D(64, (3, 3), activation='relu'),\n",
    "        layers.MaxPooling2D((2, 2)),\n",
    "        layers.Flatten(),\n",
    "        layers.Dense(128, activation='relu'),\n",
    "        layers.Dense(64, activation='relu'),\n",
    "        layers.Dense(32, activation='relu')  # Latent representation (1D vector)\n",
    "    ])\n",
    "    \n",
    "    # Decoder\n",
    "    decoder = models.Sequential([\n",
    "        layers.Dense(64, activation='relu', input_shape=(32,)),\n",
    "        layers.Dense(128, activation='relu'),\n",
    "        layers.Dense(input_shape[0] * input_shape[1] * input_shape[2], activation='sigmoid'),\n",
    "        layers.Reshape(input_shape)\n",
    "    ])\n",
    "    \n",
    "    # Autoencoder\n",
    "    autoencoder = models.Sequential([encoder, decoder])\n",
    "    \n",
    "    autoencoder.compile(optimizer='adam', loss='binary_crossentropy')\n",
    "    \n",
    "    return autoencoder\n"
   ]
  },
  {
   "cell_type": "markdown",
   "metadata": {},
   "source": [
    "Set configuration variables for the data directories, batch size, image size, number of epochs, and model path.\n"
   ]
  },
  {
   "cell_type": "code",
   "execution_count": 10,
   "metadata": {},
   "outputs": [],
   "source": [
    "train_directory=\"../backend/data/Train/\"\n",
    "test_directory=\"../backend/data/Test/\"\n",
    "batch_size=64\n",
    "image_size=tuple([32, 32])\n",
    "epochs=25\n",
    "model_path=\"../backend/model/encoder_model.keras\""
   ]
  },
  {
   "cell_type": "markdown",
   "metadata": {},
   "source": [
    "1. Create data generators for training and testing data.\n",
    "2. Create autoencoder generators for the training and testing data.\n",
    "3. Build the autoencoder model.\n",
    "4. Train the autoencoder model with the training data and validate it with the testing data."
   ]
  },
  {
   "cell_type": "code",
   "execution_count": 12,
   "metadata": {},
   "outputs": [
    {
     "name": "stdout",
     "output_type": "stream",
     "text": [
      "Found 35510 images belonging to 1 classes.\n",
      "Found 8876 images belonging to 1 classes.\n",
      "Epoch 1/25\n",
      "555/555 [==============================] - 574s 1s/step - loss: 0.2795 - val_loss: 0.2377\n",
      "Epoch 2/25\n",
      "555/555 [==============================] - 559s 1s/step - loss: 0.2295 - val_loss: 0.2258\n",
      "Epoch 3/25\n",
      "555/555 [==============================] - 555s 1s/step - loss: 0.2204 - val_loss: 0.2193\n",
      "Epoch 4/25\n",
      "555/555 [==============================] - 548s 988ms/step - loss: 0.2155 - val_loss: 0.2157\n",
      "Epoch 5/25\n",
      "555/555 [==============================] - 545s 984ms/step - loss: 0.2122 - val_loss: 0.2128\n",
      "Epoch 6/25\n",
      "555/555 [==============================] - 520s 938ms/step - loss: 0.2100 - val_loss: 0.2105\n",
      "Epoch 7/25\n",
      "555/555 [==============================] - 505s 911ms/step - loss: 0.2085 - val_loss: 0.2094\n",
      "Epoch 8/25\n",
      "555/555 [==============================] - 453s 817ms/step - loss: 0.2072 - val_loss: 0.2091\n",
      "Epoch 9/25\n",
      "555/555 [==============================] - 442s 798ms/step - loss: 0.2061 - val_loss: 0.2084\n",
      "Epoch 10/25\n",
      "555/555 [==============================] - 442s 797ms/step - loss: 0.2052 - val_loss: 0.2069\n",
      "Epoch 11/25\n",
      "555/555 [==============================] - 436s 787ms/step - loss: 0.2045 - val_loss: 0.2058\n",
      "Epoch 12/25\n",
      "555/555 [==============================] - 439s 792ms/step - loss: 0.2039 - val_loss: 0.2057\n",
      "Epoch 13/25\n",
      "555/555 [==============================] - 437s 789ms/step - loss: 0.2033 - val_loss: 0.2048\n",
      "Epoch 14/25\n",
      "555/555 [==============================] - 439s 793ms/step - loss: 0.2028 - val_loss: 0.2049\n",
      "Epoch 15/25\n",
      "555/555 [==============================] - 442s 797ms/step - loss: 0.2024 - val_loss: 0.2056\n",
      "Epoch 16/25\n",
      "555/555 [==============================] - 439s 793ms/step - loss: 0.2019 - val_loss: 0.2037\n",
      "Epoch 17/25\n",
      "555/555 [==============================] - 440s 795ms/step - loss: 0.2015 - val_loss: 0.2029\n",
      "Epoch 18/25\n",
      "555/555 [==============================] - 437s 789ms/step - loss: 0.2013 - val_loss: 0.2036\n",
      "Epoch 19/25\n",
      "555/555 [==============================] - 437s 789ms/step - loss: 0.2009 - val_loss: 0.2033\n",
      "Epoch 20/25\n",
      "555/555 [==============================] - 442s 797ms/step - loss: 0.2005 - val_loss: 0.2016\n",
      "Epoch 21/25\n",
      "555/555 [==============================] - 439s 792ms/step - loss: 0.2003 - val_loss: 0.2028\n",
      "Epoch 22/25\n",
      "555/555 [==============================] - 440s 795ms/step - loss: 0.2000 - val_loss: 0.2024\n",
      "Epoch 23/25\n",
      "555/555 [==============================] - 437s 788ms/step - loss: 0.1997 - val_loss: 0.2014\n",
      "Epoch 24/25\n",
      "555/555 [==============================] - 442s 798ms/step - loss: 0.1995 - val_loss: 0.2012\n",
      "Epoch 25/25\n",
      "555/555 [==============================] - 439s 793ms/step - loss: 0.1992 - val_loss: 0.2022\n"
     ]
    }
   ],
   "source": [
    "\n",
    "# Create the data generators\n",
    "train_generator = create_data_generator(train_directory, batch_size, image_size)\n",
    "test_generator = create_data_generator(test_directory, batch_size, image_size)\n",
    "\n",
    "# Create the autoencoder generator\n",
    "autoencoder_train_generator = create_autoencoder_generator(train_generator)\n",
    "autoencoder_test_generator = create_autoencoder_generator(test_generator)\n",
    "\n",
    "# Build the autoencoder\n",
    "autoencoder = build_autoencoder(input_shape=image_size + (3,))  # 3 channels for RGB\n",
    "\n",
    "# Train the autoencoder\n",
    "history=autoencoder.fit(\n",
    "    autoencoder_train_generator,\n",
    "    steps_per_epoch=len(train_generator),\n",
    "    validation_data=autoencoder_test_generator,\n",
    "    validation_steps=len(test_generator),\n",
    "    epochs=epochs\n",
    ")\n",
    "\n",
    "    # Save the model\n"
   ]
  },
  {
   "cell_type": "markdown",
   "metadata": {},
   "source": [
    "Save the trained autoencoder model to the specified path."
   ]
  },
  {
   "cell_type": "code",
   "execution_count": 16,
   "metadata": {},
   "outputs": [],
   "source": [
    "autoencoder.save(model_path)\n"
   ]
  },
  {
   "cell_type": "markdown",
   "metadata": {},
   "source": [
    "Plot the training and validation loss values to visualize the model's performance over epochs."
   ]
  },
  {
   "cell_type": "code",
   "execution_count": 15,
   "metadata": {},
   "outputs": [
    {
     "data": {
      "image/png": "[encoded data removed]",
      "text/plain": [
       "<Figure size 640x480 with 1 Axes>"
      ]
     },
     "metadata": {},
     "output_type": "display_data"
    }
   ],
   "source": [
    "import matplotlib.pyplot as plt\n",
    "\n",
    "# Plot training & validation loss values\n",
    "plt.plot(history.history['loss'])\n",
    "plt.plot(history.history['val_loss'])\n",
    "plt.title('Model Loss')\n",
    "plt.ylabel('Loss')\n",
    "plt.xlabel('Epoch')\n",
    "plt.legend(['Train', 'Test'], loc='upper left')\n",
    "plt.show()"
   ]
  }
 ],
 "metadata": {
  "kernelspec": {
   "display_name": "base",
   "language": "python",
   "name": "python3"
  },
  "language_info": {
   "codemirror_mode": {
    "name": "ipython",
    "version": 3
   },
   "file_extension": ".py",
   "mimetype": "text/x-python",
   "name": "python",
   "nbconvert_exporter": "python",
   "pygments_lexer": "ipython3",
   "version": "3.11.8"
  }
 },
 "nbformat": 4,
 "nbformat_minor": 2
}
